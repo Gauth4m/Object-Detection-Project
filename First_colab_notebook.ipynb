{
  "nbformat": 4,
  "nbformat_minor": 0,
  "metadata": {
    "colab": {
      "provenance": [],
      "toc_visible": true,
      "mount_file_id": "1zMcJUaLvj5jSTB67XadfwKlvIK7mLsmm",
      "authorship_tag": "ABX9TyPDAUcIg3NL0x9cWOXDNqwb",
      "include_colab_link": true
    },
    "kernelspec": {
      "name": "python3",
      "display_name": "Python 3"
    },
    "language_info": {
      "name": "python"
    }
  },
  "cells": [
    {
      "cell_type": "markdown",
      "metadata": {
        "id": "view-in-github",
        "colab_type": "text"
      },
      "source": [
        "<a href=\"https://colab.research.google.com/github/Gauth4m/Object-Detection-Project/blob/main/First_colab_notebook.ipynb\" target=\"_parent\"><img src=\"https://colab.research.google.com/assets/colab-badge.svg\" alt=\"Open In Colab\"/></a>"
      ]
    },
    {
      "cell_type": "markdown",
      "source": [
        "#Yolov5"
      ],
      "metadata": {
        "id": "QFHNRay7zoE9"
      }
    },
    {
      "cell_type": "code",
      "source": [
        "print(\"Test 2\")\n"
      ],
      "metadata": {
        "colab": {
          "base_uri": "https://localhost:8080/"
        },
        "id": "dXB5iQiqz-IO",
        "outputId": "0c81757a-329a-4144-b7f2-939a8615d956"
      },
      "execution_count": 10,
      "outputs": [
        {
          "output_type": "stream",
          "name": "stdout",
          "text": [
            "Test 2\n"
          ]
        }
      ]
    }
  ]
}