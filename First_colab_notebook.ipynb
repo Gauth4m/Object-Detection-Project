{
  "nbformat": 4,
  "nbformat_minor": 0,
  "metadata": {
    "colab": {
      "provenance": [],
      "toc_visible": true,
      "mount_file_id": "1zMcJUaLvj5jSTB67XadfwKlvIK7mLsmm",
      "authorship_tag": "ABX9TyPhXdGOzBAeLJccXGIiFV0K",
      "include_colab_link": true
    },
    "kernelspec": {
      "name": "python3",
      "display_name": "Python 3"
    },
    "language_info": {
      "name": "python"
    }
  },
  "cells": [
    {
      "cell_type": "markdown",
      "metadata": {
        "id": "view-in-github",
        "colab_type": "text"
      },
      "source": [
        "<a href=\"https://colab.research.google.com/github/Gauth4m/Object-Detection-Project/blob/main/First_colab_notebook.ipynb\" target=\"_parent\"><img src=\"https://colab.research.google.com/assets/colab-badge.svg\" alt=\"Open In Colab\"/></a>"
      ]
    },
    {
      "cell_type": "code",
      "source": [
        "# Clone the entire repo.\n",
        "!git clone -l -s https://github.com/Gauth4m/Object-Detection-Project.git cloned-repo\n",
        "%cd cloned-repo\n",
        "!ls"
      ],
      "metadata": {
        "colab": {
          "base_uri": "https://localhost:8080/"
        },
        "id": "KJLhskrGSN0U",
        "outputId": "cefb6515-ba3a-43aa-ea45-8124008f4295"
      },
      "execution_count": 1,
      "outputs": [
        {
          "output_type": "stream",
          "name": "stdout",
          "text": [
            "Cloning into 'cloned-repo'...\n",
            "warning: --local is ignored\n",
            "remote: Enumerating objects: 9, done.\u001b[K\n",
            "remote: Counting objects: 100% (9/9), done.\u001b[K\n",
            "remote: Compressing objects: 100% (5/5), done.\u001b[K\n",
            "remote: Total 9 (delta 0), reused 6 (delta 0), pack-reused 0\u001b[K\n",
            "Receiving objects: 100% (9/9), done.\n",
            "/content/cloned-repo\n",
            "'Image classification.py'   README.md\n"
          ]
        }
      ]
    },
    {
      "cell_type": "markdown",
      "source": [
        "#Yolov5"
      ],
      "metadata": {
        "id": "QFHNRay7zoE9"
      }
    },
    {
      "cell_type": "code",
      "source": [
        "print(\"Test mikonim\")\n"
      ],
      "metadata": {
        "colab": {
          "base_uri": "https://localhost:8080/"
        },
        "id": "dXB5iQiqz-IO",
        "outputId": "b41e87f9-9f6f-499a-ee08-ea39edc1ec45"
      },
      "execution_count": 9,
      "outputs": [
        {
          "output_type": "stream",
          "name": "stdout",
          "text": [
            "Test mikonim\n"
          ]
        }
      ]
    }
  ]
}