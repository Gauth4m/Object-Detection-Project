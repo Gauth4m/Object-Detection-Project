{
  "nbformat": 4,
  "nbformat_minor": 0,
  "metadata": {
    "colab": {
      "provenance": [],
      "toc_visible": true,
      "mount_file_id": "1zMcJUaLvj5jSTB67XadfwKlvIK7mLsmm",
      "authorship_tag": "ABX9TyNuQuJFF8LkLfsBm/cnXJwc",
      "include_colab_link": true
    },
    "kernelspec": {
      "name": "python3",
      "display_name": "Python 3"
    },
    "language_info": {
      "name": "python"
    }
  },
  "cells": [
    {
      "cell_type": "markdown",
      "metadata": {
        "id": "view-in-github",
        "colab_type": "text"
      },
      "source": [
        "<a href=\"https://colab.research.google.com/github/Gauth4m/Object-Detection-Project/blob/main/First_colab_notebook.ipynb\" target=\"_parent\"><img src=\"https://colab.research.google.com/assets/colab-badge.svg\" alt=\"Open In Colab\"/></a>"
      ]
    },
    {
      "cell_type": "markdown",
      "source": [
        "#Yolov5"
      ],
      "metadata": {
        "id": "QFHNRay7zoE9"
      }
    },
    {
      "cell_type": "code",
      "source": [
        "import itertools\n",
        "import os\n",
        "\n",
        "import matplotlib.pylab as plt\n",
        "import numpy as np\n",
        "\n",
        "import tensorflow as tf\n",
        "import tensorflow_hub as hub\n",
        "\n",
        "print(\"TF version:\", tf.__version__)\n",
        "print(\"Hub version:\", hub.__version__)\n",
        "print(\"GPU is\", \"available\" if tf.config.list_physical_devices('GPU') else \"NOT AVAILABLE\")\n"
      ],
      "metadata": {
        "colab": {
          "base_uri": "https://localhost:8080/"
        },
        "id": "dXB5iQiqz-IO",
        "outputId": "f7d51046-14c5-4619-814e-d757d0fa8911"
      },
      "execution_count": null,
      "outputs": [
        {
          "output_type": "stream",
          "name": "stdout",
          "text": [
            "TF version: 2.14.0\n",
            "Hub version: 0.15.0\n",
            "GPU is NOT AVAILABLE\n"
          ]
        }
      ]
    },
    {
      "cell_type": "code",
      "source": [
        "model_name = \"efficientnetv2-xl-21k\""
      ],
      "metadata": {
        "id": "blmBSd21A84C"
      },
      "execution_count": null,
      "outputs": []
    },
    {
      "cell_type": "code",
      "source": [
        "model_handel_map"
      ],
      "metadata": {
        "id": "OLbrb96yOQSu"
      },
      "execution_count": null,
      "outputs": []
    },
    {
      "cell_type": "code",
      "source": [
        "m = tf.keras.Sequential([\n",
        "    hub.KerasLayer(\"https://www.kaggle.com/models/google/efficientnet-v2/frameworks/TensorFlow2/variations/imagenet21k-xl-classification/versions/1\")\n",
        "])\n",
        "m.build([None, 512, 512, 3])  # Batch input shape.\n"
      ],
      "metadata": {
        "id": "q_Xof-fbdA72"
      },
      "execution_count": null,
      "outputs": []
    }
  ]
}